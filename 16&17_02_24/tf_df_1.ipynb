{
 "cells": [
  {
   "cell_type": "code",
   "execution_count": 1,
   "metadata": {},
   "outputs": [
    {
     "name": "stderr",
     "output_type": "stream",
     "text": [
      "2024-02-28 18:24:39.913595: E external/local_xla/xla/stream_executor/cuda/cuda_dnn.cc:9261] Unable to register cuDNN factory: Attempting to register factory for plugin cuDNN when one has already been registered\n",
      "2024-02-28 18:24:39.913669: E external/local_xla/xla/stream_executor/cuda/cuda_fft.cc:607] Unable to register cuFFT factory: Attempting to register factory for plugin cuFFT when one has already been registered\n",
      "2024-02-28 18:24:39.953836: E external/local_xla/xla/stream_executor/cuda/cuda_blas.cc:1515] Unable to register cuBLAS factory: Attempting to register factory for plugin cuBLAS when one has already been registered\n",
      "2024-02-28 18:24:40.048627: I tensorflow/core/platform/cpu_feature_guard.cc:182] This TensorFlow binary is optimized to use available CPU instructions in performance-critical operations.\n",
      "To enable the following instructions: AVX2 FMA, in other operations, rebuild TensorFlow with the appropriate compiler flags.\n",
      "2024-02-28 18:24:41.070011: W tensorflow/compiler/tf2tensorrt/utils/py_utils.cc:38] TF-TRT Warning: Could not find TensorRT\n"
     ]
    }
   ],
   "source": [
    "# Import necessary libraries\n",
    "import pandas as pd\n",
    "import tensorflow_decision_forests as tfdf\n",
    "import tensorflow as tf\n",
    "\n"
   ]
  },
  {
   "cell_type": "code",
   "execution_count": 2,
   "metadata": {},
   "outputs": [],
   "source": [
    "\n",
    "# Load your dataset\n",
    "data_path = 'combined_csv.csv'  # Update this path\n",
    "data = pd.read_csv(data_path)\n",
    "\n"
   ]
  },
  {
   "cell_type": "code",
   "execution_count": 3,
   "metadata": {},
   "outputs": [],
   "source": [
    "# Split the data into features and target\n",
    "X = data.iloc[:, 1:-1]\n",
    "y = data.iloc[:, -1]\n",
    "\n"
   ]
  },
  {
   "cell_type": "code",
   "execution_count": 4,
   "metadata": {},
   "outputs": [],
   "source": [
    "# Convert to TensorFlow dataset and split into train, validation, and test sets\n",
    "def df_to_tf_dataset(features, target):\n",
    "    dataset = tf.data.Dataset.from_tensor_slices((dict(features), target))\n",
    "    return dataset\n",
    "\n"
   ]
  },
  {
   "cell_type": "code",
   "execution_count": 5,
   "metadata": {},
   "outputs": [
    {
     "name": "stderr",
     "output_type": "stream",
     "text": [
      "2024-02-28 18:24:49.529254: I external/local_xla/xla/stream_executor/cuda/cuda_executor.cc:887] could not open file to read NUMA node: /sys/bus/pci/devices/0000:01:00.0/numa_node\n",
      "Your kernel may have been built without NUMA support.\n",
      "2024-02-28 18:24:49.702885: I external/local_xla/xla/stream_executor/cuda/cuda_executor.cc:887] could not open file to read NUMA node: /sys/bus/pci/devices/0000:01:00.0/numa_node\n",
      "Your kernel may have been built without NUMA support.\n",
      "2024-02-28 18:24:49.702982: I external/local_xla/xla/stream_executor/cuda/cuda_executor.cc:887] could not open file to read NUMA node: /sys/bus/pci/devices/0000:01:00.0/numa_node\n",
      "Your kernel may have been built without NUMA support.\n",
      "2024-02-28 18:24:49.706899: I external/local_xla/xla/stream_executor/cuda/cuda_executor.cc:887] could not open file to read NUMA node: /sys/bus/pci/devices/0000:01:00.0/numa_node\n",
      "Your kernel may have been built without NUMA support.\n",
      "2024-02-28 18:24:49.706957: I external/local_xla/xla/stream_executor/cuda/cuda_executor.cc:887] could not open file to read NUMA node: /sys/bus/pci/devices/0000:01:00.0/numa_node\n",
      "Your kernel may have been built without NUMA support.\n",
      "2024-02-28 18:24:49.706982: I external/local_xla/xla/stream_executor/cuda/cuda_executor.cc:887] could not open file to read NUMA node: /sys/bus/pci/devices/0000:01:00.0/numa_node\n",
      "Your kernel may have been built without NUMA support.\n",
      "2024-02-28 18:24:49.906478: I external/local_xla/xla/stream_executor/cuda/cuda_executor.cc:887] could not open file to read NUMA node: /sys/bus/pci/devices/0000:01:00.0/numa_node\n",
      "Your kernel may have been built without NUMA support.\n",
      "2024-02-28 18:24:49.906605: I external/local_xla/xla/stream_executor/cuda/cuda_executor.cc:887] could not open file to read NUMA node: /sys/bus/pci/devices/0000:01:00.0/numa_node\n",
      "Your kernel may have been built without NUMA support.\n",
      "2024-02-28 18:24:49.906618: I tensorflow/core/common_runtime/gpu/gpu_device.cc:2022] Could not identify NUMA node of platform GPU id 0, defaulting to 0.  Your kernel may not have been built with NUMA support.\n",
      "2024-02-28 18:24:49.906685: I external/local_xla/xla/stream_executor/cuda/cuda_executor.cc:887] could not open file to read NUMA node: /sys/bus/pci/devices/0000:01:00.0/numa_node\n",
      "Your kernel may have been built without NUMA support.\n",
      "2024-02-28 18:24:49.906724: I tensorflow/core/common_runtime/gpu/gpu_device.cc:1929] Created device /job:localhost/replica:0/task:0/device:GPU:0 with 3586 MB memory:  -> device: 0, name: NVIDIA GeForce RTX 3060 Laptop GPU, pci bus id: 0000:01:00.0, compute capability: 8.6\n"
     ]
    }
   ],
   "source": [
    "# Splitting the data (adjust split sizes as needed)\n",
    "train_size = int(len(data) * 0.7)\n",
    "val_size = int(len(data) * 0.15)\n",
    "test_size = len(data) - train_size - val_size\n",
    "\n",
    "full_dataset = df_to_tf_dataset(X, y)\n",
    "full_dataset = full_dataset.shuffle(buffer_size=len(data))\n",
    "\n",
    "# Adjusted dataset preparation without shuffle operation\n",
    "train_dataset = full_dataset.take(train_size).batch(16)\n",
    "val_dataset = full_dataset.skip(train_size).take(val_size).batch(16) # Ensure validation dataset is correctly defined\n",
    "test_dataset = full_dataset.skip(train_size + val_size).batch(16)\n"
   ]
  },
  {
   "cell_type": "code",
   "execution_count": 6,
   "metadata": {},
   "outputs": [
    {
     "name": "stdout",
     "output_type": "stream",
     "text": [
      "Use /tmp/tmpqn69h2w5 as temporary training directory\n"
     ]
    },
    {
     "name": "stdout",
     "output_type": "stream",
     "text": [
      "Reading training dataset...\n",
      "Training dataset read in 0:00:03.925426. Found 2189 examples.\n",
      "Training model...\n",
      "Model trained in 0:00:00.206987\n",
      "Compiling model...\n"
     ]
    },
    {
     "name": "stderr",
     "output_type": "stream",
     "text": [
      "[INFO 24-02-28 18:24:59.1138 +0530 kernel.cc:1233] Loading model from path /tmp/tmpqn69h2w5/model/ with prefix 44b33a13417b4c18\n",
      "[INFO 24-02-28 18:24:59.1657 +0530 decision_forest.cc:660] Model loaded with 300 root(s), 39900 node(s), and 8 input feature(s).\n",
      "[INFO 24-02-28 18:24:59.1658 +0530 abstract_model.cc:1344] Engine \"RandomForestOptPred\" built\n",
      "[INFO 24-02-28 18:24:59.1658 +0530 kernel.cc:1061] Use fast generic engine\n"
     ]
    },
    {
     "name": "stdout",
     "output_type": "stream",
     "text": [
      "Model compiled.\n"
     ]
    },
    {
     "data": {
      "text/plain": [
       "<keras.src.callbacks.History at 0x7fee137dd7b0>"
      ]
     },
     "execution_count": 6,
     "metadata": {},
     "output_type": "execute_result"
    }
   ],
   "source": [
    "# Train a Random Forest model with dataset check disabled (if needed)\n",
    "model = tfdf.keras.RandomForestModel(check_dataset=False)\n",
    "model.fit(train_dataset)"
   ]
  },
  {
   "cell_type": "code",
   "execution_count": 7,
   "metadata": {},
   "outputs": [
    {
     "name": "stdout",
     "output_type": "stream",
     "text": [
      "30/30 [==============================] - 0s 4ms/step - loss: 0.0000e+00\n"
     ]
    }
   ],
   "source": [
    "# Evaluate the model on the test set\n",
    "evaluation = model.evaluate(test_dataset)\n",
    "\n"
   ]
  },
  {
   "cell_type": "code",
   "execution_count": 8,
   "metadata": {},
   "outputs": [
    {
     "name": "stdout",
     "output_type": "stream",
     "text": [
      "Model: \"random_forest_model\"\n",
      "_________________________________________________________________\n",
      " Layer (type)                Output Shape              Param #   \n",
      "=================================================================\n",
      "=================================================================\n",
      "Total params: 1 (1.00 Byte)\n",
      "Trainable params: 0 (0.00 Byte)\n",
      "Non-trainable params: 1 (1.00 Byte)\n",
      "_________________________________________________________________\n",
      "Type: \"RANDOM_FOREST\"\n",
      "Task: CLASSIFICATION\n",
      "Label: \"__LABEL\"\n",
      "\n",
      "Input Features (8):\n",
      "\tperson_center_x\n",
      "\tperson_center_y\n",
      "\tperson_intersection_percentage\n",
      "\tperson_velocity\n",
      "\tvehicle_center_x\n",
      "\tvehicle_center_y\n",
      "\tvehicle_intersection_percentage\n",
      "\tvehicle_velocity\n",
      "\n",
      "No weights\n",
      "\n",
      "Variable Importance: INV_MEAN_MIN_DEPTH:\n",
      "    1.                \"vehicle_center_x\"  0.383788 ################\n",
      "    2.                \"vehicle_center_y\"  0.306749 ###########\n",
      "    3.                 \"person_center_x\"  0.235241 #######\n",
      "    4.  \"person_intersection_percentage\"  0.230301 ######\n",
      "    5.                 \"person_center_y\"  0.183364 ###\n",
      "    6. \"vehicle_intersection_percentage\"  0.164471 ##\n",
      "    7.                \"vehicle_velocity\"  0.120586 \n",
      "    8.                 \"person_velocity\"  0.118775 \n",
      "\n",
      "Variable Importance: NUM_AS_ROOT:\n",
      "    1.                \"vehicle_center_x\" 127.000000 ################\n",
      "    2.                \"vehicle_center_y\" 115.000000 ##############\n",
      "    3.                 \"person_center_y\" 36.000000 ####\n",
      "    4. \"vehicle_intersection_percentage\" 13.000000 #\n",
      "    5.  \"person_intersection_percentage\"  7.000000 \n",
      "    6.                 \"person_center_x\"  2.000000 \n",
      "\n",
      "Variable Importance: NUM_NODES:\n",
      "    1.                 \"person_center_x\" 4216.000000 ################\n",
      "    2.                \"vehicle_center_x\" 3560.000000 ############\n",
      "    3.  \"person_intersection_percentage\" 2665.000000 ########\n",
      "    4.                \"vehicle_center_y\" 2661.000000 ########\n",
      "    5.                 \"person_center_y\" 2453.000000 #######\n",
      "    6. \"vehicle_intersection_percentage\" 2398.000000 #######\n",
      "    7.                \"vehicle_velocity\" 980.000000 \n",
      "    8.                 \"person_velocity\" 867.000000 \n",
      "\n",
      "Variable Importance: SUM_SCORE:\n",
      "    1.                \"vehicle_center_x\" 89703.710354 ################\n",
      "    2.                 \"person_center_x\" 78656.143308 #############\n",
      "    3.                \"vehicle_center_y\" 64153.522275 ###########\n",
      "    4.  \"person_intersection_percentage\" 50859.491307 ########\n",
      "    5.                 \"person_center_y\" 32169.271563 #####\n",
      "    6. \"vehicle_intersection_percentage\" 31636.898239 #####\n",
      "    7.                \"vehicle_velocity\" 4671.338770 \n",
      "    8.                 \"person_velocity\" 3468.810973 \n",
      "\n",
      "\n",
      "\n",
      "Winner takes all: true\n",
      "Out-of-bag evaluation: accuracy:0.974874 logloss:0.0916737\n",
      "Number of trees: 300\n",
      "Total number of nodes: 39900\n",
      "\n",
      "Number of nodes by tree:\n",
      "Count: 300 Average: 133 StdDev: 10.6345\n",
      "Min: 105 Max: 167 Ignored: 0\n",
      "----------------------------------------------\n",
      "[ 105, 108)  1   0.33%   0.33%\n",
      "[ 108, 111)  4   1.33%   1.67% #\n",
      "[ 111, 114)  4   1.33%   3.00% #\n",
      "[ 114, 117)  6   2.00%   5.00% #\n",
      "[ 117, 120) 20   6.67%  11.67% ####\n",
      "[ 120, 123)  5   1.67%  13.33% #\n",
      "[ 123, 127) 38  12.67%  26.00% #######\n",
      "[ 127, 130) 39  13.00%  39.00% ########\n",
      "[ 130, 133) 23   7.67%  46.67% #####\n",
      "[ 133, 136) 51  17.00%  63.67% ##########\n",
      "[ 136, 139) 26   8.67%  72.33% #####\n",
      "[ 139, 142) 24   8.00%  80.33% #####\n",
      "[ 142, 145) 13   4.33%  84.67% ###\n",
      "[ 145, 149) 20   6.67%  91.33% ####\n",
      "[ 149, 152) 14   4.67%  96.00% ###\n",
      "[ 152, 155)  2   0.67%  96.67%\n",
      "[ 155, 158)  5   1.67%  98.33% #\n",
      "[ 158, 161)  2   0.67%  99.00%\n",
      "[ 161, 164)  2   0.67%  99.67%\n",
      "[ 164, 167]  1   0.33% 100.00%\n",
      "\n",
      "Depth by leafs:\n",
      "Count: 20100 Average: 7.72891 StdDev: 2.33943\n",
      "Min: 1 Max: 15 Ignored: 0\n",
      "----------------------------------------------\n",
      "[  1,  2)   13   0.06%   0.06%\n",
      "[  2,  3)  136   0.68%   0.74%\n",
      "[  3,  4)  401   2.00%   2.74% #\n",
      "[  4,  5)  918   4.57%   7.30% ###\n",
      "[  5,  6) 1850   9.20%  16.51% #####\n",
      "[  6,  7) 2989  14.87%  31.38% #########\n",
      "[  7,  8) 3463  17.23%  48.61% ##########\n",
      "[  8,  9) 3189  15.87%  64.47% #########\n",
      "[  9, 10) 2678  13.32%  77.80% ########\n",
      "[ 10, 11) 1925   9.58%  87.37% ######\n",
      "[ 11, 12) 1309   6.51%  93.89% ####\n",
      "[ 12, 13)  699   3.48%  97.36% ##\n",
      "[ 13, 14)  355   1.77%  99.13% #\n",
      "[ 14, 15)  125   0.62%  99.75%\n",
      "[ 15, 15]   50   0.25% 100.00%\n",
      "\n",
      "Number of training obs by leaf:\n",
      "Count: 20100 Average: 32.6716 StdDev: 68.6824\n",
      "Min: 5 Max: 666 Ignored: 0\n",
      "----------------------------------------------\n",
      "[   5,  38) 16234  80.77%  80.77% ##########\n",
      "[  38,  71)  1769   8.80%  89.57% #\n",
      "[  71, 104)   740   3.68%  93.25%\n",
      "[ 104, 137)   335   1.67%  94.92%\n",
      "[ 137, 170)   255   1.27%  96.18%\n",
      "[ 170, 203)   164   0.82%  97.00%\n",
      "[ 203, 236)    89   0.44%  97.44%\n",
      "[ 236, 269)    86   0.43%  97.87%\n",
      "[ 269, 302)    84   0.42%  98.29%\n",
      "[ 302, 336)    45   0.22%  98.51%\n",
      "[ 336, 369)    32   0.16%  98.67%\n",
      "[ 369, 402)    45   0.22%  98.90%\n",
      "[ 402, 435)    39   0.19%  99.09%\n",
      "[ 435, 468)    45   0.22%  99.31%\n",
      "[ 468, 501)    34   0.17%  99.48%\n",
      "[ 501, 534)    47   0.23%  99.72%\n",
      "[ 534, 567)    31   0.15%  99.87%\n",
      "[ 567, 600)    14   0.07%  99.94%\n",
      "[ 600, 633)    11   0.05% 100.00%\n",
      "[ 633, 666]     1   0.00% 100.00%\n",
      "\n",
      "Attribute in nodes:\n",
      "\t4216 : person_center_x [NUMERICAL]\n",
      "\t3560 : vehicle_center_x [NUMERICAL]\n",
      "\t2665 : person_intersection_percentage [NUMERICAL]\n",
      "\t2661 : vehicle_center_y [NUMERICAL]\n",
      "\t2453 : person_center_y [NUMERICAL]\n",
      "\t2398 : vehicle_intersection_percentage [NUMERICAL]\n",
      "\t980 : vehicle_velocity [NUMERICAL]\n",
      "\t867 : person_velocity [NUMERICAL]\n",
      "\n",
      "Attribute in nodes with depth <= 0:\n",
      "\t127 : vehicle_center_x [NUMERICAL]\n",
      "\t115 : vehicle_center_y [NUMERICAL]\n",
      "\t36 : person_center_y [NUMERICAL]\n",
      "\t13 : vehicle_intersection_percentage [NUMERICAL]\n",
      "\t7 : person_intersection_percentage [NUMERICAL]\n",
      "\t2 : person_center_x [NUMERICAL]\n",
      "\n",
      "Attribute in nodes with depth <= 1:\n",
      "\t265 : vehicle_center_x [NUMERICAL]\n",
      "\t182 : person_center_x [NUMERICAL]\n",
      "\t173 : vehicle_center_y [NUMERICAL]\n",
      "\t111 : person_intersection_percentage [NUMERICAL]\n",
      "\t103 : person_center_y [NUMERICAL]\n",
      "\t40 : vehicle_intersection_percentage [NUMERICAL]\n",
      "\t7 : vehicle_velocity [NUMERICAL]\n",
      "\t6 : person_velocity [NUMERICAL]\n",
      "\n",
      "Attribute in nodes with depth <= 2:\n",
      "\t464 : person_center_x [NUMERICAL]\n",
      "\t434 : vehicle_center_x [NUMERICAL]\n",
      "\t303 : person_intersection_percentage [NUMERICAL]\n",
      "\t281 : vehicle_center_y [NUMERICAL]\n",
      "\t236 : person_center_y [NUMERICAL]\n",
      "\t158 : vehicle_intersection_percentage [NUMERICAL]\n",
      "\t34 : vehicle_velocity [NUMERICAL]\n",
      "\t15 : person_velocity [NUMERICAL]\n",
      "\n",
      "Attribute in nodes with depth <= 3:\n",
      "\t854 : person_center_x [NUMERICAL]\n",
      "\t740 : vehicle_center_x [NUMERICAL]\n",
      "\t577 : person_intersection_percentage [NUMERICAL]\n",
      "\t464 : vehicle_center_y [NUMERICAL]\n",
      "\t453 : person_center_y [NUMERICAL]\n",
      "\t396 : vehicle_intersection_percentage [NUMERICAL]\n",
      "\t71 : vehicle_velocity [NUMERICAL]\n",
      "\t45 : person_velocity [NUMERICAL]\n",
      "\n",
      "Attribute in nodes with depth <= 5:\n",
      "\t2080 : person_center_x [NUMERICAL]\n",
      "\t1697 : vehicle_center_x [NUMERICAL]\n",
      "\t1297 : person_intersection_percentage [NUMERICAL]\n",
      "\t1183 : vehicle_center_y [NUMERICAL]\n",
      "\t1160 : person_center_y [NUMERICAL]\n",
      "\t1108 : vehicle_intersection_percentage [NUMERICAL]\n",
      "\t294 : vehicle_velocity [NUMERICAL]\n",
      "\t227 : person_velocity [NUMERICAL]\n",
      "\n",
      "Condition type in nodes:\n",
      "\t19800 : HigherCondition\n",
      "Condition type in nodes with depth <= 0:\n",
      "\t300 : HigherCondition\n",
      "Condition type in nodes with depth <= 1:\n",
      "\t887 : HigherCondition\n",
      "Condition type in nodes with depth <= 2:\n",
      "\t1925 : HigherCondition\n",
      "Condition type in nodes with depth <= 3:\n",
      "\t3600 : HigherCondition\n",
      "Condition type in nodes with depth <= 5:\n",
      "\t9046 : HigherCondition\n",
      "Node format: NOT_SET\n",
      "\n",
      "Training OOB:\n",
      "\ttrees: 1, Out-of-bag evaluation: accuracy:0.928753 logloss:2.568\n",
      "\ttrees: 11, Out-of-bag evaluation: accuracy:0.95574 logloss:0.498516\n",
      "\ttrees: 23, Out-of-bag evaluation: accuracy:0.96391 logloss:0.179755\n",
      "\ttrees: 33, Out-of-bag evaluation: accuracy:0.969392 logloss:0.112524\n",
      "\ttrees: 43, Out-of-bag evaluation: accuracy:0.973504 logloss:0.0924016\n",
      "\ttrees: 53, Out-of-bag evaluation: accuracy:0.972133 logloss:0.0932686\n",
      "\ttrees: 63, Out-of-bag evaluation: accuracy:0.975331 logloss:0.0924293\n",
      "\ttrees: 73, Out-of-bag evaluation: accuracy:0.974874 logloss:0.0922711\n",
      "\ttrees: 84, Out-of-bag evaluation: accuracy:0.976245 logloss:0.0929701\n",
      "\ttrees: 94, Out-of-bag evaluation: accuracy:0.976702 logloss:0.0921468\n",
      "\ttrees: 104, Out-of-bag evaluation: accuracy:0.976245 logloss:0.0923049\n",
      "\ttrees: 114, Out-of-bag evaluation: accuracy:0.976245 logloss:0.0924194\n",
      "\ttrees: 124, Out-of-bag evaluation: accuracy:0.974418 logloss:0.0927106\n",
      "\ttrees: 134, Out-of-bag evaluation: accuracy:0.974418 logloss:0.0924437\n",
      "\ttrees: 144, Out-of-bag evaluation: accuracy:0.973961 logloss:0.0921055\n",
      "\ttrees: 154, Out-of-bag evaluation: accuracy:0.973504 logloss:0.0923454\n",
      "\ttrees: 164, Out-of-bag evaluation: accuracy:0.973961 logloss:0.0925484\n",
      "\ttrees: 174, Out-of-bag evaluation: accuracy:0.973961 logloss:0.0916824\n",
      "\ttrees: 185, Out-of-bag evaluation: accuracy:0.973961 logloss:0.0923077\n",
      "\ttrees: 195, Out-of-bag evaluation: accuracy:0.974874 logloss:0.0918522\n",
      "\ttrees: 205, Out-of-bag evaluation: accuracy:0.974418 logloss:0.0916402\n",
      "\ttrees: 215, Out-of-bag evaluation: accuracy:0.974874 logloss:0.0913815\n",
      "\ttrees: 225, Out-of-bag evaluation: accuracy:0.974418 logloss:0.0913473\n",
      "\ttrees: 235, Out-of-bag evaluation: accuracy:0.974418 logloss:0.0913214\n",
      "\ttrees: 245, Out-of-bag evaluation: accuracy:0.973961 logloss:0.0913251\n",
      "\ttrees: 257, Out-of-bag evaluation: accuracy:0.975788 logloss:0.0912927\n",
      "\ttrees: 267, Out-of-bag evaluation: accuracy:0.974418 logloss:0.0912578\n",
      "\ttrees: 277, Out-of-bag evaluation: accuracy:0.974874 logloss:0.0911614\n",
      "\ttrees: 287, Out-of-bag evaluation: accuracy:0.974874 logloss:0.0913582\n",
      "\ttrees: 297, Out-of-bag evaluation: accuracy:0.973504 logloss:0.0917344\n",
      "\ttrees: 300, Out-of-bag evaluation: accuracy:0.974874 logloss:0.0916737\n",
      "\n"
     ]
    }
   ],
   "source": [
    "# Plotting feature importances\n",
    "model.summary()\n",
    "\n"
   ]
  },
  {
   "cell_type": "code",
   "execution_count": 9,
   "metadata": {},
   "outputs": [
    {
     "ename": "AttributeError",
     "evalue": "module 'tensorflow_decision_forests.component.model_plotter.model_plotter' has no attribute 'plot_feature_importances'",
     "output_type": "error",
     "traceback": [
      "\u001b[0;31m---------------------------------------------------------------------------\u001b[0m",
      "\u001b[0;31mAttributeError\u001b[0m                            Traceback (most recent call last)",
      "Cell \u001b[0;32mIn[9], line 6\u001b[0m\n\u001b[1;32m      1\u001b[0m \u001b[38;5;66;03m# Built-in TensorFlow Decision Forests Plotting\u001b[39;00m\n\u001b[1;32m      2\u001b[0m \u001b[38;5;66;03m# Note: This requires TensorFlow Decision Forests version >= 0.2.0\u001b[39;00m\n\u001b[1;32m      3\u001b[0m \n\u001b[1;32m      4\u001b[0m \u001b[38;5;66;03m# Plotting model structure and feature importances\u001b[39;00m\n\u001b[1;32m      5\u001b[0m tfdf\u001b[38;5;241m.\u001b[39mmodel_plotter\u001b[38;5;241m.\u001b[39mplot_model_in_colab(model, tree_idx\u001b[38;5;241m=\u001b[39m\u001b[38;5;241m0\u001b[39m, max_depth\u001b[38;5;241m=\u001b[39m\u001b[38;5;241m3\u001b[39m)\n\u001b[0;32m----> 6\u001b[0m \u001b[43mtfdf\u001b[49m\u001b[38;5;241;43m.\u001b[39;49m\u001b[43mmodel_plotter\u001b[49m\u001b[38;5;241;43m.\u001b[39;49m\u001b[43mplot_feature_importances\u001b[49m(model)\n",
      "\u001b[0;31mAttributeError\u001b[0m: module 'tensorflow_decision_forests.component.model_plotter.model_plotter' has no attribute 'plot_feature_importances'"
     ]
    }
   ],
   "source": [
    "# Built-in TensorFlow Decision Forests Plotting\n",
    "# Note: This requires TensorFlow Decision Forests version >= 0.2.0\n",
    "\n",
    "# Plotting model structure and feature importances\n",
    "tfdf.model_plotter.plot_model_in_colab(model, tree_idx=0, max_depth=3)\n",
    "tfdf.model_plotter.plot_feature_importances(model)\n"
   ]
  },
  {
   "cell_type": "code",
   "execution_count": 10,
   "metadata": {},
   "outputs": [
    {
     "name": "stdout",
     "output_type": "stream",
     "text": [
      "Model type: RANDOM_FOREST\n",
      "Number of trees: 300\n",
      "Objective: Classification(label=__LABEL, class=None, num_classes=2)\n",
      "Input features: [\"person_center_x\" (1; #1), \"person_center_y\" (1; #2), \"person_intersection_percentage\" (1; #3), \"person_velocity\" (1; #4), \"vehicle_center_x\" (1; #5), \"vehicle_center_y\" (1; #6), \"vehicle_intersection_percentage\" (1; #7), \"vehicle_velocity\" (1; #8)]\n",
      "Evaluation: Evaluation(num_examples=2189, accuracy=0.9748743718592965, loss=0.09167369996725512, rmse=None, ndcg=None, aucs=None, auuc=None, qini=None)\n"
     ]
    }
   ],
   "source": [
    "\n",
    "# Note: The `plot_model_in_colab` function is designed to work in Google Colab and might not render directly in Jupyter.\n",
    "# For Jupyter, you can use `model.make_inspector().export_to_tensorboard('/path/to/logdir')` and visualize with TensorBoard.\n",
    "\n",
    "# Advanced model insights\n",
    "inspector = model.make_inspector()\n",
    "print(\"Model type:\", inspector.model_type())\n",
    "print(\"Number of trees:\", inspector.num_trees())\n",
    "print(\"Objective:\", inspector.objective())\n",
    "print(\"Input features:\", inspector.features())\n",
    "print(\"Evaluation:\", inspector.evaluation())\n",
    "\n"
   ]
  },
  {
   "cell_type": "code",
   "execution_count": 11,
   "metadata": {},
   "outputs": [
    {
     "name": "stdout",
     "output_type": "stream",
     "text": [
      "INFO:tensorflow:Assets written to: your_model_path/assets\n"
     ]
    },
    {
     "name": "stderr",
     "output_type": "stream",
     "text": [
      "INFO:tensorflow:Assets written to: your_model_path/assets\n"
     ]
    }
   ],
   "source": [
    "# Optional: Save your model for later use\n",
    "model.save('your_model_path')"
   ]
  },
  {
   "cell_type": "code",
   "execution_count": null,
   "metadata": {},
   "outputs": [],
   "source": []
  }
 ],
 "metadata": {
  "kernelspec": {
   "display_name": "Python 3",
   "language": "python",
   "name": "python3"
  },
  "language_info": {
   "codemirror_mode": {
    "name": "ipython",
    "version": 3
   },
   "file_extension": ".py",
   "mimetype": "text/x-python",
   "name": "python",
   "nbconvert_exporter": "python",
   "pygments_lexer": "ipython3",
   "version": "3.10.12"
  }
 },
 "nbformat": 4,
 "nbformat_minor": 2
}
