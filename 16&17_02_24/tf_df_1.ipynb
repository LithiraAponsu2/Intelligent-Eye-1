{
 "cells": [
  {
   "cell_type": "code",
   "execution_count": 1,
   "metadata": {},
   "outputs": [
    {
     "name": "stderr",
     "output_type": "stream",
     "text": [
      "2024-02-28 07:01:14.014344: E external/local_xla/xla/stream_executor/cuda/cuda_dnn.cc:9261] Unable to register cuDNN factory: Attempting to register factory for plugin cuDNN when one has already been registered\n",
      "2024-02-28 07:01:14.014400: E external/local_xla/xla/stream_executor/cuda/cuda_fft.cc:607] Unable to register cuFFT factory: Attempting to register factory for plugin cuFFT when one has already been registered\n",
      "2024-02-28 07:01:14.016853: E external/local_xla/xla/stream_executor/cuda/cuda_blas.cc:1515] Unable to register cuBLAS factory: Attempting to register factory for plugin cuBLAS when one has already been registered\n",
      "2024-02-28 07:01:14.027584: I tensorflow/core/platform/cpu_feature_guard.cc:182] This TensorFlow binary is optimized to use available CPU instructions in performance-critical operations.\n",
      "To enable the following instructions: AVX2 FMA, in other operations, rebuild TensorFlow with the appropriate compiler flags.\n",
      "2024-02-28 07:01:14.716212: W tensorflow/compiler/tf2tensorrt/utils/py_utils.cc:38] TF-TRT Warning: Could not find TensorRT\n"
     ]
    }
   ],
   "source": [
    "# Import necessary libraries\n",
    "import pandas as pd\n",
    "import tensorflow_decision_forests as tfdf\n",
    "import tensorflow as tf\n",
    "\n"
   ]
  },
  {
   "cell_type": "code",
   "execution_count": 2,
   "metadata": {},
   "outputs": [],
   "source": [
    "\n",
    "# Load your dataset\n",
    "data_path = 'combined_dataset_updated.csv'  # Update this path\n",
    "data = pd.read_csv(data_path)\n",
    "\n"
   ]
  },
  {
   "cell_type": "code",
   "execution_count": 3,
   "metadata": {},
   "outputs": [],
   "source": [
    "# Split the data into features and target\n",
    "X = data.iloc[:, :-1]\n",
    "y = data.iloc[:, -1]\n",
    "\n"
   ]
  },
  {
   "cell_type": "code",
   "execution_count": 4,
   "metadata": {},
   "outputs": [],
   "source": [
    "# Convert to TensorFlow dataset and split into train, validation, and test sets\n",
    "def df_to_tf_dataset(features, target):\n",
    "    dataset = tf.data.Dataset.from_tensor_slices((dict(features), target))\n",
    "    return dataset\n",
    "\n"
   ]
  },
  {
   "cell_type": "code",
   "execution_count": 7,
   "metadata": {},
   "outputs": [],
   "source": [
    "# Splitting the data (adjust split sizes as needed)\n",
    "train_size = int(len(data) * 0.7)\n",
    "val_size = int(len(data) * 0.15)\n",
    "test_size = len(data) - train_size - val_size\n",
    "\n",
    "full_dataset = df_to_tf_dataset(X, y)\n",
    "full_dataset = full_dataset.shuffle(buffer_size=len(data))\n",
    "\n",
    "# Adjusted dataset preparation without shuffle operation\n",
    "train_dataset = full_dataset.take(train_size).batch(16)\n",
    "val_dataset = full_dataset.skip(train_size).take(val_size).batch(16) # Ensure validation dataset is correctly defined\n",
    "test_dataset = full_dataset.skip(train_size + val_size).batch(16)\n"
   ]
  },
  {
   "cell_type": "code",
   "execution_count": 9,
   "metadata": {},
   "outputs": [
    {
     "name": "stdout",
     "output_type": "stream",
     "text": [
      "Use /tmp/tmpc0isgm7y as temporary training directory\n",
      "Reading training dataset...\n",
      "Training dataset read in 0:00:13.821231. Found 55853 examples.\n",
      "Training model...\n"
     ]
    },
    {
     "name": "stderr",
     "output_type": "stream",
     "text": [
      "[INFO 24-02-28 07:13:05.5599 +0530 kernel.cc:1233] Loading model from path /tmp/tmpc0isgm7y/model/ with prefix 88ef81fa3e484008\n"
     ]
    },
    {
     "name": "stdout",
     "output_type": "stream",
     "text": [
      "Model trained in 0:00:02.289315\n",
      "Compiling model...\n"
     ]
    },
    {
     "name": "stderr",
     "output_type": "stream",
     "text": [
      "[INFO 24-02-28 07:13:05.8403 +0530 decision_forest.cc:660] Model loaded with 300 root(s), 198508 node(s), and 10 input feature(s).\n",
      "[INFO 24-02-28 07:13:05.8404 +0530 abstract_model.cc:1344] Engine \"RandomForestOptPred\" built\n",
      "[INFO 24-02-28 07:13:05.8404 +0530 kernel.cc:1061] Use fast generic engine\n"
     ]
    },
    {
     "name": "stdout",
     "output_type": "stream",
     "text": [
      "Model compiled.\n"
     ]
    },
    {
     "data": {
      "text/plain": [
       "<keras.src.callbacks.History at 0x7f9a4df144f0>"
      ]
     },
     "execution_count": 9,
     "metadata": {},
     "output_type": "execute_result"
    }
   ],
   "source": [
    "# Train a Random Forest model with dataset check disabled (if needed)\n",
    "model = tfdf.keras.RandomForestModel(check_dataset=False)\n",
    "model.fit(train_dataset)"
   ]
  },
  {
   "cell_type": "code",
   "execution_count": 10,
   "metadata": {},
   "outputs": [
    {
     "name": "stdout",
     "output_type": "stream",
     "text": [
      "749/749 [==============================] - 4s 4ms/step - loss: 0.0000e+00\n"
     ]
    }
   ],
   "source": [
    "# Evaluate the model on the test set\n",
    "evaluation = model.evaluate(test_dataset)\n",
    "\n"
   ]
  },
  {
   "cell_type": "code",
   "execution_count": 11,
   "metadata": {},
   "outputs": [
    {
     "name": "stdout",
     "output_type": "stream",
     "text": [
      "Model: \"random_forest_model_2\"\n",
      "_________________________________________________________________\n",
      " Layer (type)                Output Shape              Param #   \n",
      "=================================================================\n",
      "=================================================================\n",
      "Total params: 1 (1.00 Byte)\n",
      "Trainable params: 0 (0.00 Byte)\n",
      "Non-trainable params: 1 (1.00 Byte)\n",
      "_________________________________________________________________\n",
      "Type: \"RANDOM_FOREST\"\n",
      "Task: CLASSIFICATION\n",
      "Label: \"__LABEL\"\n",
      "\n",
      "Input Features (10):\n",
      "\tmax_pedestrian_iou\n",
      "\tmax_pedestrian_position_x\n",
      "\tmax_pedestrian_position_y\n",
      "\tmax_pedestrian_velocity_x\n",
      "\tmax_pedestrian_velocity_y\n",
      "\tmax_vehicle_iou\n",
      "\tmax_vehicle_position_x\n",
      "\tmax_vehicle_position_y\n",
      "\tmax_vehicle_velocity_x\n",
      "\tmax_vehicle_velocity_y\n",
      "\n",
      "No weights\n",
      "\n",
      "Variable Importance: INV_MEAN_MIN_DEPTH:\n",
      "    1. \"max_pedestrian_position_y\"  0.478980 ################\n",
      "    2.    \"max_vehicle_position_y\"  0.245697 ######\n",
      "    3. \"max_pedestrian_position_x\"  0.228046 #####\n",
      "    4.    \"max_vehicle_position_x\"  0.149804 ##\n",
      "    5. \"max_pedestrian_velocity_x\"  0.126010 #\n",
      "    6.    \"max_vehicle_velocity_x\"  0.107276 \n",
      "    7.           \"max_vehicle_iou\"  0.100800 \n",
      "    8.    \"max_vehicle_velocity_y\"  0.089544 \n",
      "    9. \"max_pedestrian_velocity_y\"  0.089330 \n",
      "   10.        \"max_pedestrian_iou\"  0.084148 \n",
      "\n",
      "Variable Importance: NUM_AS_ROOT:\n",
      "    1. \"max_pedestrian_position_y\" 154.000000 ################\n",
      "    2.    \"max_vehicle_position_y\" 76.000000 #######\n",
      "    3. \"max_pedestrian_position_x\" 47.000000 ####\n",
      "    4.    \"max_vehicle_position_x\" 13.000000 #\n",
      "    5.    \"max_vehicle_velocity_x\"  9.000000 \n",
      "    6.        \"max_pedestrian_iou\"  1.000000 \n",
      "\n",
      "Variable Importance: NUM_NODES:\n",
      "    1. \"max_pedestrian_position_x\" 17445.000000 ################\n",
      "    2.    \"max_vehicle_position_x\" 16589.000000 ###############\n",
      "    3.    \"max_vehicle_position_y\" 14367.000000 #############\n",
      "    4. \"max_pedestrian_position_y\" 13729.000000 ############\n",
      "    5. \"max_pedestrian_velocity_x\" 10145.000000 ########\n",
      "    6.    \"max_vehicle_velocity_x\" 9874.000000 ########\n",
      "    7.    \"max_vehicle_velocity_y\" 6797.000000 #####\n",
      "    8. \"max_pedestrian_velocity_y\" 5797.000000 ####\n",
      "    9.           \"max_vehicle_iou\" 3578.000000 ##\n",
      "   10.        \"max_pedestrian_iou\" 783.000000 \n",
      "\n",
      "Variable Importance: SUM_SCORE:\n",
      "    1. \"max_pedestrian_position_y\" 361766.276115 ################\n",
      "    2. \"max_pedestrian_position_x\" 278251.298357 ############\n",
      "    3.    \"max_vehicle_position_y\" 248138.732492 ##########\n",
      "    4.    \"max_vehicle_position_x\" 218353.037597 #########\n",
      "    5. \"max_pedestrian_velocity_x\" 112658.381706 ####\n",
      "    6.    \"max_vehicle_velocity_x\" 85850.591965 ###\n",
      "    7.           \"max_vehicle_iou\" 52106.882343 #\n",
      "    8.    \"max_vehicle_velocity_y\" 44298.770255 #\n",
      "    9. \"max_pedestrian_velocity_y\" 36370.592441 #\n",
      "   10.        \"max_pedestrian_iou\" 10175.897803 \n",
      "\n",
      "\n",
      "\n",
      "Winner takes all: true\n",
      "Out-of-bag evaluation: accuracy:0.991782 logloss:0.0290058\n",
      "Number of trees: 300\n",
      "Total number of nodes: 198508\n",
      "\n",
      "Number of nodes by tree:\n",
      "Count: 300 Average: 661.693 StdDev: 47.852\n",
      "Min: 463 Max: 765 Ignored: 0\n",
      "----------------------------------------------\n",
      "[ 463, 478)  1   0.33%   0.33%\n",
      "[ 478, 493)  0   0.00%   0.33%\n",
      "[ 493, 508)  0   0.00%   0.33%\n",
      "[ 508, 523)  0   0.00%   0.33%\n",
      "[ 523, 538)  3   1.00%   1.33% #\n",
      "[ 538, 553)  2   0.67%   2.00%\n",
      "[ 553, 569)  4   1.33%   3.33% #\n",
      "[ 569, 584)  7   2.33%   5.67% ##\n",
      "[ 584, 599) 12   4.00%   9.67% ###\n",
      "[ 599, 614) 11   3.67%  13.33% ###\n",
      "[ 614, 629) 30  10.00%  23.33% #######\n",
      "[ 629, 644) 30  10.00%  33.33% #######\n",
      "[ 644, 659) 37  12.33%  45.67% #########\n",
      "[ 659, 675) 43  14.33%  60.00% ##########\n",
      "[ 675, 690) 33  11.00%  71.00% ########\n",
      "[ 690, 705) 34  11.33%  82.33% ########\n",
      "[ 705, 720) 19   6.33%  88.67% ####\n",
      "[ 720, 735) 12   4.00%  92.67% ###\n",
      "[ 735, 750) 13   4.33%  97.00% ###\n",
      "[ 750, 765]  9   3.00% 100.00% ##\n",
      "\n",
      "Depth by leafs:\n",
      "Count: 99404 Average: 11.2537 StdDev: 2.79589\n",
      "Min: 2 Max: 15 Ignored: 0\n",
      "----------------------------------------------\n",
      "[  2,  3)    42   0.04%   0.04%\n",
      "[  3,  4)   298   0.30%   0.34%\n",
      "[  4,  5)   731   0.74%   1.08%\n",
      "[  5,  6)  1707   1.72%   2.79% #\n",
      "[  6,  7)  3076   3.09%   5.89% ##\n",
      "[  7,  8)  4877   4.91%  10.80% ###\n",
      "[  8,  9)  6919   6.96%  17.76% #####\n",
      "[  9, 10)  9231   9.29%  27.04% ######\n",
      "[ 10, 11) 10979  11.04%  38.09% #######\n",
      "[ 11, 12) 11805  11.88%  49.96% ########\n",
      "[ 12, 13) 12126  12.20%  62.16% ########\n",
      "[ 13, 14) 11853  11.92%  74.09% ########\n",
      "[ 14, 15) 10444  10.51%  84.59% #######\n",
      "[ 15, 15] 15316  15.41% 100.00% ##########\n",
      "\n",
      "Number of training obs by leaf:\n",
      "Count: 99404 Average: 168.564 StdDev: 631.528\n",
      "Min: 5 Max: 14280 Ignored: 0\n",
      "----------------------------------------------\n",
      "[     5,   718) 94164  94.73%  94.73% ##########\n",
      "[   718,  1432)  2728   2.74%  97.47%\n",
      "[  1432,  2146)  1040   1.05%  98.52%\n",
      "[  2146,  2860)   509   0.51%  99.03%\n",
      "[  2860,  3574)   264   0.27%  99.30%\n",
      "[  3574,  4287)   193   0.19%  99.49%\n",
      "[  4287,  5001)   102   0.10%  99.59%\n",
      "[  5001,  5715)    45   0.05%  99.64%\n",
      "[  5715,  6429)    72   0.07%  99.71%\n",
      "[  6429,  7143)    61   0.06%  99.77%\n",
      "[  7143,  7856)    74   0.07%  99.85%\n",
      "[  7856,  8570)    37   0.04%  99.88%\n",
      "[  8570,  9284)    57   0.06%  99.94%\n",
      "[  9284,  9998)    41   0.04%  99.98%\n",
      "[  9998, 10712)     8   0.01%  99.99%\n",
      "[ 10712, 11425)     5   0.01% 100.00%\n",
      "[ 11425, 12139)     2   0.00% 100.00%\n",
      "[ 12139, 12853)     1   0.00% 100.00%\n",
      "[ 12853, 13567)     0   0.00% 100.00%\n",
      "[ 13567, 14280]     1   0.00% 100.00%\n",
      "\n",
      "Attribute in nodes:\n",
      "\t17445 : max_pedestrian_position_x [NUMERICAL]\n",
      "\t16589 : max_vehicle_position_x [NUMERICAL]\n",
      "\t14367 : max_vehicle_position_y [NUMERICAL]\n",
      "\t13729 : max_pedestrian_position_y [NUMERICAL]\n",
      "\t10145 : max_pedestrian_velocity_x [NUMERICAL]\n",
      "\t9874 : max_vehicle_velocity_x [NUMERICAL]\n",
      "\t6797 : max_vehicle_velocity_y [NUMERICAL]\n",
      "\t5797 : max_pedestrian_velocity_y [NUMERICAL]\n",
      "\t3578 : max_vehicle_iou [NUMERICAL]\n",
      "\t783 : max_pedestrian_iou [NUMERICAL]\n",
      "\n",
      "Attribute in nodes with depth <= 0:\n",
      "\t154 : max_pedestrian_position_y [NUMERICAL]\n",
      "\t76 : max_vehicle_position_y [NUMERICAL]\n",
      "\t47 : max_pedestrian_position_x [NUMERICAL]\n",
      "\t13 : max_vehicle_position_x [NUMERICAL]\n",
      "\t9 : max_vehicle_velocity_x [NUMERICAL]\n",
      "\t1 : max_pedestrian_iou [NUMERICAL]\n",
      "\n",
      "Attribute in nodes with depth <= 1:\n",
      "\t433 : max_pedestrian_position_y [NUMERICAL]\n",
      "\t167 : max_vehicle_position_y [NUMERICAL]\n",
      "\t120 : max_pedestrian_position_x [NUMERICAL]\n",
      "\t97 : max_pedestrian_velocity_x [NUMERICAL]\n",
      "\t49 : max_vehicle_position_x [NUMERICAL]\n",
      "\t14 : max_vehicle_velocity_x [NUMERICAL]\n",
      "\t6 : max_vehicle_iou [NUMERICAL]\n",
      "\t6 : max_pedestrian_iou [NUMERICAL]\n",
      "\t5 : max_pedestrian_velocity_y [NUMERICAL]\n",
      "\t3 : max_vehicle_velocity_y [NUMERICAL]\n",
      "\n",
      "Attribute in nodes with depth <= 2:\n",
      "\t784 : max_pedestrian_position_y [NUMERICAL]\n",
      "\t365 : max_pedestrian_position_x [NUMERICAL]\n",
      "\t360 : max_vehicle_position_y [NUMERICAL]\n",
      "\t230 : max_pedestrian_velocity_x [NUMERICAL]\n",
      "\t132 : max_vehicle_position_x [NUMERICAL]\n",
      "\t78 : max_vehicle_velocity_x [NUMERICAL]\n",
      "\t38 : max_vehicle_iou [NUMERICAL]\n",
      "\t30 : max_vehicle_velocity_y [NUMERICAL]\n",
      "\t28 : max_pedestrian_velocity_y [NUMERICAL]\n",
      "\t13 : max_pedestrian_iou [NUMERICAL]\n",
      "\n",
      "Attribute in nodes with depth <= 3:\n",
      "\t1209 : max_pedestrian_position_y [NUMERICAL]\n",
      "\t797 : max_pedestrian_position_x [NUMERICAL]\n",
      "\t652 : max_vehicle_position_y [NUMERICAL]\n",
      "\t494 : max_pedestrian_velocity_x [NUMERICAL]\n",
      "\t374 : max_vehicle_position_x [NUMERICAL]\n",
      "\t227 : max_vehicle_velocity_x [NUMERICAL]\n",
      "\t119 : max_vehicle_iou [NUMERICAL]\n",
      "\t89 : max_pedestrian_velocity_y [NUMERICAL]\n",
      "\t80 : max_vehicle_velocity_y [NUMERICAL]\n",
      "\t35 : max_pedestrian_iou [NUMERICAL]\n",
      "\n",
      "Attribute in nodes with depth <= 5:\n",
      "\t2610 : max_pedestrian_position_y [NUMERICAL]\n",
      "\t2425 : max_pedestrian_position_x [NUMERICAL]\n",
      "\t1819 : max_vehicle_position_y [NUMERICAL]\n",
      "\t1619 : max_vehicle_position_x [NUMERICAL]\n",
      "\t1427 : max_pedestrian_velocity_x [NUMERICAL]\n",
      "\t873 : max_vehicle_velocity_x [NUMERICAL]\n",
      "\t482 : max_pedestrian_velocity_y [NUMERICAL]\n",
      "\t463 : max_vehicle_velocity_y [NUMERICAL]\n",
      "\t423 : max_vehicle_iou [NUMERICAL]\n",
      "\t143 : max_pedestrian_iou [NUMERICAL]\n",
      "\n",
      "Condition type in nodes:\n",
      "\t99104 : HigherCondition\n",
      "Condition type in nodes with depth <= 0:\n",
      "\t300 : HigherCondition\n",
      "Condition type in nodes with depth <= 1:\n",
      "\t900 : HigherCondition\n",
      "Condition type in nodes with depth <= 2:\n",
      "\t2058 : HigherCondition\n",
      "Condition type in nodes with depth <= 3:\n",
      "\t4076 : HigherCondition\n",
      "Condition type in nodes with depth <= 5:\n",
      "\t12284 : HigherCondition\n",
      "Node format: NOT_SET\n",
      "\n",
      "Training OOB:\n",
      "\ttrees: 1, Out-of-bag evaluation: accuracy:0.986269 logloss:0.494903\n",
      "\ttrees: 11, Out-of-bag evaluation: accuracy:0.990197 logloss:0.15273\n",
      "\ttrees: 21, Out-of-bag evaluation: accuracy:0.991047 logloss:0.0829303\n",
      "\ttrees: 31, Out-of-bag evaluation: accuracy:0.99146 logloss:0.0645241\n",
      "\ttrees: 41, Out-of-bag evaluation: accuracy:0.991513 logloss:0.0538351\n",
      "\ttrees: 51, Out-of-bag evaluation: accuracy:0.991657 logloss:0.0473317\n",
      "\ttrees: 61, Out-of-bag evaluation: accuracy:0.991496 logloss:0.0415182\n",
      "\ttrees: 71, Out-of-bag evaluation: accuracy:0.991657 logloss:0.0395918\n",
      "\ttrees: 81, Out-of-bag evaluation: accuracy:0.991621 logloss:0.0365986\n",
      "\ttrees: 91, Out-of-bag evaluation: accuracy:0.991585 logloss:0.0360047\n",
      "\ttrees: 101, Out-of-bag evaluation: accuracy:0.991531 logloss:0.0353481\n",
      "\ttrees: 111, Out-of-bag evaluation: accuracy:0.991567 logloss:0.0341957\n",
      "\ttrees: 121, Out-of-bag evaluation: accuracy:0.991621 logloss:0.0335964\n",
      "\ttrees: 131, Out-of-bag evaluation: accuracy:0.991728 logloss:0.033576\n",
      "\ttrees: 141, Out-of-bag evaluation: accuracy:0.991818 logloss:0.0312623\n",
      "\ttrees: 151, Out-of-bag evaluation: accuracy:0.991818 logloss:0.0313218\n",
      "\ttrees: 161, Out-of-bag evaluation: accuracy:0.991764 logloss:0.0307447\n",
      "\ttrees: 171, Out-of-bag evaluation: accuracy:0.991746 logloss:0.0307346\n",
      "\ttrees: 181, Out-of-bag evaluation: accuracy:0.991639 logloss:0.0306831\n",
      "\ttrees: 191, Out-of-bag evaluation: accuracy:0.991746 logloss:0.0306941\n",
      "\ttrees: 201, Out-of-bag evaluation: accuracy:0.9918 logloss:0.0301592\n",
      "\ttrees: 211, Out-of-bag evaluation: accuracy:0.99171 logloss:0.0301789\n",
      "\ttrees: 221, Out-of-bag evaluation: accuracy:0.991764 logloss:0.0301705\n",
      "\ttrees: 231, Out-of-bag evaluation: accuracy:0.991764 logloss:0.0301677\n",
      "\ttrees: 241, Out-of-bag evaluation: accuracy:0.991836 logloss:0.0301523\n",
      "\ttrees: 251, Out-of-bag evaluation: accuracy:0.991836 logloss:0.0301397\n",
      "\ttrees: 261, Out-of-bag evaluation: accuracy:0.99171 logloss:0.0296058\n",
      "\ttrees: 271, Out-of-bag evaluation: accuracy:0.99171 logloss:0.0296077\n",
      "\ttrees: 281, Out-of-bag evaluation: accuracy:0.99171 logloss:0.029002\n",
      "\ttrees: 291, Out-of-bag evaluation: accuracy:0.991639 logloss:0.0290144\n",
      "\ttrees: 300, Out-of-bag evaluation: accuracy:0.991782 logloss:0.0290058\n",
      "\n"
     ]
    }
   ],
   "source": [
    "# Plotting feature importances\n",
    "model.summary()\n",
    "\n"
   ]
  },
  {
   "cell_type": "code",
   "execution_count": 12,
   "metadata": {},
   "outputs": [
    {
     "ename": "AttributeError",
     "evalue": "module 'tensorflow_decision_forests.component.model_plotter.model_plotter' has no attribute 'plot_feature_importances'",
     "output_type": "error",
     "traceback": [
      "\u001b[0;31m---------------------------------------------------------------------------\u001b[0m",
      "\u001b[0;31mAttributeError\u001b[0m                            Traceback (most recent call last)",
      "Cell \u001b[0;32mIn[12], line 6\u001b[0m\n\u001b[1;32m      1\u001b[0m \u001b[38;5;66;03m# Built-in TensorFlow Decision Forests Plotting\u001b[39;00m\n\u001b[1;32m      2\u001b[0m \u001b[38;5;66;03m# Note: This requires TensorFlow Decision Forests version >= 0.2.0\u001b[39;00m\n\u001b[1;32m      3\u001b[0m \n\u001b[1;32m      4\u001b[0m \u001b[38;5;66;03m# Plotting model structure and feature importances\u001b[39;00m\n\u001b[1;32m      5\u001b[0m tfdf\u001b[38;5;241m.\u001b[39mmodel_plotter\u001b[38;5;241m.\u001b[39mplot_model_in_colab(model, tree_idx\u001b[38;5;241m=\u001b[39m\u001b[38;5;241m0\u001b[39m, max_depth\u001b[38;5;241m=\u001b[39m\u001b[38;5;241m3\u001b[39m)\n\u001b[0;32m----> 6\u001b[0m \u001b[43mtfdf\u001b[49m\u001b[38;5;241;43m.\u001b[39;49m\u001b[43mmodel_plotter\u001b[49m\u001b[38;5;241;43m.\u001b[39;49m\u001b[43mplot_feature_importances\u001b[49m(model)\n",
      "\u001b[0;31mAttributeError\u001b[0m: module 'tensorflow_decision_forests.component.model_plotter.model_plotter' has no attribute 'plot_feature_importances'"
     ]
    }
   ],
   "source": [
    "# Built-in TensorFlow Decision Forests Plotting\n",
    "# Note: This requires TensorFlow Decision Forests version >= 0.2.0\n",
    "\n",
    "# Plotting model structure and feature importances\n",
    "tfdf.model_plotter.plot_model_in_colab(model, tree_idx=0, max_depth=3)\n",
    "tfdf.model_plotter.plot_feature_importances(model)\n"
   ]
  },
  {
   "cell_type": "code",
   "execution_count": 13,
   "metadata": {},
   "outputs": [
    {
     "name": "stdout",
     "output_type": "stream",
     "text": [
      "Model type: RANDOM_FOREST\n",
      "Number of trees: 300\n",
      "Objective: Classification(label=__LABEL, class=None, num_classes=2)\n",
      "Input features: [\"max_pedestrian_iou\" (1; #1), \"max_pedestrian_position_x\" (1; #2), \"max_pedestrian_position_y\" (1; #3), \"max_pedestrian_velocity_x\" (1; #4), \"max_pedestrian_velocity_y\" (1; #5), \"max_vehicle_iou\" (1; #6), \"max_vehicle_position_x\" (1; #7), \"max_vehicle_position_y\" (1; #8), \"max_vehicle_velocity_x\" (1; #9), \"max_vehicle_velocity_y\" (1; #10)]\n",
      "Evaluation: Evaluation(num_examples=55853, accuracy=0.9917819991764095, loss=0.029005823127058388, rmse=None, ndcg=None, aucs=None, auuc=None, qini=None)\n"
     ]
    }
   ],
   "source": [
    "\n",
    "# Note: The `plot_model_in_colab` function is designed to work in Google Colab and might not render directly in Jupyter.\n",
    "# For Jupyter, you can use `model.make_inspector().export_to_tensorboard('/path/to/logdir')` and visualize with TensorBoard.\n",
    "\n",
    "# Advanced model insights\n",
    "inspector = model.make_inspector()\n",
    "print(\"Model type:\", inspector.model_type())\n",
    "print(\"Number of trees:\", inspector.num_trees())\n",
    "print(\"Objective:\", inspector.objective())\n",
    "print(\"Input features:\", inspector.features())\n",
    "print(\"Evaluation:\", inspector.evaluation())\n",
    "\n"
   ]
  },
  {
   "cell_type": "code",
   "execution_count": null,
   "metadata": {},
   "outputs": [],
   "source": [
    "# Optional: Save your model for later use\n",
    "model.save('your_model_path')"
   ]
  }
 ],
 "metadata": {
  "kernelspec": {
   "display_name": "Python 3",
   "language": "python",
   "name": "python3"
  },
  "language_info": {
   "codemirror_mode": {
    "name": "ipython",
    "version": 3
   },
   "file_extension": ".py",
   "mimetype": "text/x-python",
   "name": "python",
   "nbconvert_exporter": "python",
   "pygments_lexer": "ipython3",
   "version": "3.10.12"
  }
 },
 "nbformat": 4,
 "nbformat_minor": 2
}
